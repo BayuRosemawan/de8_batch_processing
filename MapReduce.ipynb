{
  "nbformat": 4,
  "nbformat_minor": 0,
  "metadata": {
    "colab": {
      "provenance": [],
      "collapsed_sections": [],
      "mount_file_id": "1ZcTvIRy_7ZRaqJvIWD_2poFUMolqEj3D",
      "authorship_tag": "ABX9TyONyEGc7rgqj14Gimp2XnBG",
      "include_colab_link": true
    },
    "kernelspec": {
      "name": "python3",
      "display_name": "Python 3"
    },
    "language_info": {
      "name": "python"
    }
  },
  "cells": [
    {
      "cell_type": "markdown",
      "metadata": {
        "id": "view-in-github",
        "colab_type": "text"
      },
      "source": [
        "<a href=\"https://colab.research.google.com/github/BayuRosemawan/de8_batch_processing/blob/main/MapReduce.ipynb\" target=\"_parent\"><img src=\"https://colab.research.google.com/assets/colab-badge.svg\" alt=\"Open In Colab\"/></a>"
      ]
    },
    {
      "cell_type": "code",
      "execution_count": null,
      "metadata": {
        "id": "OYB_dEmt0M6C"
      },
      "outputs": [],
      "source": [
        "pip install mrjob==0.6.12"
      ]
    },
    {
      "cell_type": "code",
      "source": [
        "import mrjob"
      ],
      "metadata": {
        "id": "VD8tz56R1YOZ"
      },
      "execution_count": 1,
      "outputs": []
    },
    {
      "cell_type": "code",
      "source": [
        "mrjob"
      ],
      "metadata": {
        "id": "aM_CW2B0uozy"
      },
      "execution_count": null,
      "outputs": []
    },
    {
      "cell_type": "code",
      "source": [
        "!python CustomersOrders.py customer-orders.csv > itembuy.txt"
      ],
      "metadata": {
        "id": "KLpT9rhY3WZ-"
      },
      "execution_count": null,
      "outputs": []
    },
    {
      "cell_type": "code",
      "source": [
        "!python SpendByCustomer.py customer-orders.csv > spendcustomer.txt"
      ],
      "metadata": {
        "id": "D2hiA5vn-qVE"
      },
      "execution_count": null,
      "outputs": []
    }
  ]
}